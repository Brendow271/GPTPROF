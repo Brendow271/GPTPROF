{
 "cells": [
  {
   "cell_type": "code",
   "execution_count": null,
   "id": "initial_id",
   "metadata": {
    "collapsed": true
   },
   "outputs": [],
   "source": [
    "import os\n",
    "import gradio as gr\n",
    "from langchain_mistralai import ChatMistralAI\n",
    "from langchain_core.prompts import ChatPromptTemplate\n",
    "\n",
    "# Инициализация модели Codestral\n",
    "mistral_model = \"codestral-latest\"\n",
    "llm = ChatMistralAI(model=mistral_model, temperature=0, api_key=os.environ[\"MISTRAL_API_KEY\"])"
   ]
  },
  {
   "cell_type": "code",
   "outputs": [],
   "source": [
    "# Функция для взаимодействия с Codestral\n",
    "def ask_codestral(user_input):\n",
    "    prompt = ChatPromptTemplate.from_messages([\n",
    "        (\"user\", user_input)\n",
    "    ])\n",
    "    chain = prompt | llm\n",
    "    response = chain.invoke({})\n",
    "    return response.content"
   ],
   "metadata": {
    "collapsed": false
   },
   "id": "813b2a9dcf018501"
  },
  {
   "cell_type": "code",
   "outputs": [
    {
     "data": {
      "text/plain": "CompletedProcess(args='vtune -report summary -result-dir E:/openmw/OMW_2/r002hs/r002hs.vtune -format csv -report-output summary.csv', returncode=0)"
     },
     "execution_count": 6,
     "metadata": {},
     "output_type": "execute_result"
    }
   ],
   "source": [
    "#Vtune summary\n",
    "import subprocess\n",
    "import pandas as pd\n",
    "\n",
    "# Путь к файлу .vtune\n",
    "vtune_file_path = \"E:/openmw/OMW_2/r002hs/r002hs.vtune\"\n",
    "\n",
    "output_csv = \"summary.csv\"\n",
    "command = f\"vtune -report summary -result-dir {vtune_file_path} -format csv -report-output {output_csv}\"\n",
    "\n",
    "subprocess.run(command, shell=True, check=True)\n"
   ],
   "metadata": {
    "collapsed": false,
    "ExecuteTime": {
     "end_time": "2025-03-04T16:42:25.568642Z",
     "start_time": "2025-03-04T16:42:20.886593Z"
    }
   },
   "id": "d88ef95e6bbf5323",
   "execution_count": 6
  },
  {
   "cell_type": "code",
   "outputs": [],
   "source": [
    "# Чтение CSV-файла с результатами\n",
    "df = pd.read_csv(output_csv)"
   ],
   "metadata": {
    "collapsed": false,
    "ExecuteTime": {
     "end_time": "2025-03-04T16:42:28.883404Z",
     "start_time": "2025-03-04T16:42:28.772286Z"
    }
   },
   "id": "174e53bc9e8c1baa",
   "execution_count": 7
  },
  {
   "cell_type": "code",
   "outputs": [
    {
     "name": "stdout",
     "output_type": "stream",
     "text": [
      "Данные успешно экспортированы в bottom_up_results.csv\n"
     ]
    }
   ],
   "source": [
    "# Путь к файлу .vtune\n",
    "vtune_file_path = \"E:/openmw/OMW_2/r002hs/r002hs.vtune\"\n",
    "\n",
    "# Название выходного CSV-файла\n",
    "output_csv = \"bottom_up_results.csv\"\n",
    "\n",
    "command = (\n",
    "    f'vtune -report hotspots -r \"{vtune_file_path}\" -format=csv -report-output {output_csv}'\n",
    ")\n",
    "\n",
    "try:\n",
    "    subprocess.run(command, shell=True, check=True)\n",
    "    print(f\"Данные успешно экспортированы в {output_csv}\")\n",
    "except subprocess.CalledProcessError as e:\n",
    "    print(f\"Ошибка при выполнении команды: {e}\")"
   ],
   "metadata": {
    "collapsed": false,
    "ExecuteTime": {
     "end_time": "2025-03-04T16:43:16.837178Z",
     "start_time": "2025-03-04T16:43:11.334434Z"
    }
   },
   "id": "bd8d51d55682401",
   "execution_count": 12
  },
  {
   "cell_type": "code",
   "outputs": [],
   "source": [
    "# Чтение CSV-файла\n",
    "df = pd.read_csv(output_csv, sep='\\t')\n",
    "\n",
    "# Вывод первых строк таблицы\n",
    "print(\"Bottom-Up результаты:\")\n",
    "print(df.head())"
   ],
   "metadata": {
    "collapsed": false
   },
   "id": "751ec121604d264b",
   "execution_count": null
  },
  {
   "cell_type": "code",
   "outputs": [
    {
     "name": "stdout",
     "output_type": "stream",
     "text": [
      "Отфильтрованные данные сохранены в filtered_results.csv\n"
     ]
    }
   ],
   "source": [
    "# Массив значений для фильтрации\n",
    "filter_modules = [\"openmw.exe\", \"osg.dll\", \"osgUtil.dll\"]\n",
    "# exclude_source_files = [\"[Unknown]\", \"mutex\", \"thread\", \"xtree\", \"vector\", \"xhash\", etc..]\n",
    "\n",
    "filtered_df = df[\n",
    "    df[\"Module\"].isin(filter_modules) &\n",
    "    (df[\"Source File\"].str.endswith(\".cpp\") | df[\"Source File\"].str.endswith(\".hpp\"))\n",
    "]\n",
    "\n",
    "output_csv_path = \"filtered_results.csv\"\n",
    "\n",
    "filtered_df.to_csv(output_csv_path, sep=\"\\t\", index=False)\n",
    "\n",
    "print(f\"Отфильтрованные данные сохранены в {output_csv_path}\")"
   ],
   "metadata": {
    "collapsed": false,
    "ExecuteTime": {
     "end_time": "2025-03-05T19:53:54.971320Z",
     "start_time": "2025-03-05T19:53:54.534343Z"
    }
   },
   "id": "cd10cef10575c373",
   "execution_count": 36
  },
  {
   "cell_type": "code",
   "outputs": [],
   "source": [
    "import pandas as pd\n",
    "\n",
    "# Путь к исходному файлу\n",
    "input_csv_path = \"filtered_results.csv\"\n",
    "\n",
    "# Чтение первых 5 строк\n",
    "df = pd.read_csv(input_csv_path, sep=\"\\t\")\n",
    "top_5_rows = df.head(5)\n",
    "\n",
    "# Путь для нового файла\n",
    "output_csv_path = \"top_5_functions.csv\"\n",
    "\n",
    "# Запись в новый файл\n",
    "top_5_rows.to_csv(output_csv_path, sep=\"\\t\", index=False)"
   ],
   "metadata": {
    "collapsed": false,
    "ExecuteTime": {
     "end_time": "2025-03-05T19:54:01.337633Z",
     "start_time": "2025-03-05T19:54:01.298002Z"
    }
   },
   "id": "50943b276201f1e",
   "execution_count": 37
  },
  {
   "cell_type": "code",
   "outputs": [
    {
     "name": "stdout",
     "output_type": "stream",
     "text": [
      "Папки в E:\\openmw\\apps\\openmw:\n",
      "  - mwbase\n",
      "  - mwclass\n",
      "  - mwdialogue\n",
      "  - mwgui\n",
      "  - mwinput\n",
      "  - mwlua\n",
      "  - mwmechanics\n",
      "  - mwphysics\n",
      "  - mwrender\n",
      "  - mwscript\n",
      "  - mwsound\n",
      "  - mwstate\n",
      "  - mwworld\n",
      "\n",
      "Папки в E:\\openmw\\components:\n",
      "  - bgsm\n",
      "  - bsa\n",
      "  - bullethelpers\n",
      "  - compiler\n",
      "  - config\n",
      "  - contentselector\n",
      "  - crashcatcher\n",
      "  - debug\n",
      "  - detournavigator\n",
      "  - esm\n",
      "  - esm3\n",
      "  - esm4\n",
      "  - esmloader\n",
      "  - esmterrain\n",
      "  - fallback\n",
      "  - files\n",
      "  - fontloader\n",
      "  - fx\n",
      "  - interpreter\n",
      "  - l10n\n",
      "  - loadinglistener\n",
      "  - lua\n",
      "  - lua_ui\n",
      "  - misc\n",
      "  - myguiplatform\n",
      "  - navmeshtool\n",
      "  - nif\n",
      "  - nifbullet\n",
      "  - nifosg\n",
      "  - platform\n",
      "  - process\n",
      "  - resource\n",
      "  - sceneutil\n",
      "  - sdlutil\n",
      "  - serialization\n",
      "  - settings\n",
      "  - shader\n",
      "  - sqlite3\n",
      "  - std140\n",
      "  - stereo\n",
      "  - terrain\n",
      "  - testing\n",
      "  - to_utf8\n",
      "  - translation\n",
      "  - version\n",
      "  - vfs\n",
      "  - widgets\n"
     ]
    }
   ],
   "source": [
    "import os\n",
    "\n",
    "# Пути к директориям\n",
    "apps_path = r\"E:\\openmw\\apps\\openmw\"\n",
    "components_path = r\"E:\\openmw\\components\"\n",
    "\n",
    "# Функция для получения списка папок\n",
    "def get_folders(directory):\n",
    "    folders = []\n",
    "    for item in os.listdir(directory):\n",
    "        item_path = os.path.join(directory, item)\n",
    "        if os.path.isdir(item_path):\n",
    "            folders.append(item)\n",
    "    return folders\n",
    "\n",
    "# Получение списка папок в apps\n",
    "apps_folders = get_folders(apps_path)\n",
    "print(f\"Папки в {apps_path}:\")\n",
    "for folder in apps_folders:\n",
    "    print(f\"  - {folder}\")\n",
    "\n",
    "# Получение списка папок в components\n",
    "components_folders = get_folders(components_path)\n",
    "print(f\"\\nПапки в {components_path}:\")\n",
    "for folder in components_folders:\n",
    "    print(f\"  - {folder}\")"
   ],
   "metadata": {
    "collapsed": false,
    "ExecuteTime": {
     "end_time": "2025-03-05T23:47:54.631757Z",
     "start_time": "2025-03-05T23:47:54.621163Z"
    }
   },
   "id": "aaa2b23472c9c843",
   "execution_count": 3
  },
  {
   "cell_type": "code",
   "outputs": [
    {
     "name": "stdout",
     "output_type": "stream",
     "text": [
      "{'folder_name': 'sceneutil', 'full_folder_name': '', 'class_name': 'PositionAttitudeTransform', 'function_name': 'accept', 'source_file': 'positionattitudetransform.hpp', 'module': 'openmw.exe', 'return_type': '', 'arguments': '', 'code': ''}\n",
      "{'folder_name': 'mwrender', 'full_folder_name': '', 'class_name': 'IntersectionVisitorWithIgnoreList', 'function_name': 'skipTransform', 'source_file': 'renderingmanager.cpp', 'module': 'openmw.exe', 'return_type': '', 'arguments': '', 'code': ''}\n",
      "{'folder_name': 'mwphysics', 'full_folder_name': '', 'class_name': 'PhysicsSystem', 'function_name': 'stepSimulation', 'source_file': 'physicssystem.cpp', 'module': 'openmw.exe', 'return_type': '', 'arguments': '', 'code': ''}\n",
      "{'folder_name': 'sceneutil', 'full_folder_name': '', 'class_name': 'RigGeometry', 'function_name': 'cull', 'source_file': 'riggeometry.cpp', 'module': 'openmw.exe', 'return_type': '', 'arguments': '', 'code': ''}\n",
      "{'folder_name': 'nifosg', 'full_folder_name': '', 'class_name': 'ValueInterpolator<struct Nif', 'function_name': 'interpKey', 'source_file': 'controller.hpp', 'module': 'openmw.exe', 'return_type': '', 'arguments': '', 'code': ''}\n"
     ]
    }
   ],
   "source": [
    "import pandas as pd\n",
    "import re\n",
    "# Путь к CSV-файлу\n",
    "input_csv_path = \"top_5_functions.csv\"\n",
    "\n",
    "# Чтение CSV-файла\n",
    "df = pd.read_csv(input_csv_path, sep=\"\\t\")\n",
    "\n",
    "def create_function_structure(row):\n",
    "    function_full = row[\"Function (Full)\"]\n",
    "    parts = function_full.split(\"::\", maxsplit=2) \n",
    "    \n",
    "    folder_name = parts[0].lower()\n",
    "    class_name = parts[1]\n",
    "    function_name = parts[2]\n",
    "\n",
    "    # Убираем всё, что в скобках, включая сами скобки\n",
    "    function_name = re.sub(r\"\\(.*?\\)\", \"\", function_name).strip()\n",
    "\n",
    "    # Если function_name содержит шаблонные параметры, оставляем только имя функции\n",
    "    if \"<\" in function_name:\n",
    "        function_name = function_name.split(\"::\")[-1]\n",
    "\n",
    "    source_file = row[\"Source File\"]\n",
    "    module = row[\"Module\"]\n",
    "    \n",
    "    # Создание структуры\n",
    "    function_structure = {\n",
    "        \"folder_name\": folder_name,\n",
    "        \"full_folder_name\": \"\",\n",
    "        \"class_name\" : class_name,\n",
    "        \"function_name\": function_name,\n",
    "        \"source_file\": source_file,\n",
    "        \"module\": module,\n",
    "        \"return_type\": \"\",  # Пока оставляем пустым\n",
    "        \"arguments\": \"\",  # Пока оставляем пустым\n",
    "        \"code\": \"\"  # Пока оставляем пустым\n",
    "    }\n",
    "    return function_structure\n",
    "\n",
    "# Применение функции к каждой строке DataFrame\n",
    "functions_list = []\n",
    "for index, row in df.iterrows():\n",
    "    function_structure = create_function_structure(row)\n",
    "    functions_list.append(function_structure)\n",
    "\n",
    "# Вывод результата\n",
    "for function in functions_list:\n",
    "    print(function)"
   ],
   "metadata": {
    "collapsed": false,
    "ExecuteTime": {
     "end_time": "2025-03-05T23:47:44.951639Z",
     "start_time": "2025-03-05T23:47:41.202933Z"
    }
   },
   "id": "5912b725d4342021",
   "execution_count": 1
  },
  {
   "cell_type": "code",
   "outputs": [
    {
     "name": "stdout",
     "output_type": "stream",
     "text": [
      "Найдено совпадение в components: E:\\openmw\\components\\sceneutil\\positionattitudetransform.hpp\n",
      "Найдено совпадение в apps: E:\\openmw\\apps\\openmw\\mwrender\\renderingmanager.cpp\n",
      "Найдено совпадение в apps: E:\\openmw\\apps\\openmw\\mwphysics\\physicssystem.cpp\n",
      "Найдено совпадение в components: E:\\openmw\\components\\sceneutil\\riggeometry.cpp\n",
      "Найдено совпадение в components: E:\\openmw\\components\\nifosg\\controller.hpp\n"
     ]
    }
   ],
   "source": [
    "import os\n",
    "\n",
    "# Функция для поиска совпадений и восстановления пути\n",
    "def find_and_set_full_folder_name(function):\n",
    "    folder_name = function[\"folder_name\"]\n",
    "    source_file = function[\"source_file\"]\n",
    "\n",
    "    # Поиск совпадений в apps_folders\n",
    "    for folder in apps_folders:\n",
    "        if folder_name.lower() == folder.lower():  # Сравниваем имена папок\n",
    "            full_path = os.path.join(apps_path, folder, source_file)\n",
    "            function[\"full_folder_name\"] = full_path  # Добавляем полный путь в структуру\n",
    "            print(f\"Найдено совпадение в apps: {full_path}\")\n",
    "            return  # Выход из функции после первого совпадения\n",
    "\n",
    "    # Если в apps_folders совпадение не найдено, ищем в components_folders\n",
    "    for folder in components_folders:\n",
    "        if folder_name.lower() == folder.lower():  # Сравниваем имена папок\n",
    "            full_path = os.path.join(components_path, folder, source_file)\n",
    "            function[\"full_folder_name\"] = full_path  # Добавляем полный путь в структуру\n",
    "            print(f\"Найдено совпадение в components: {full_path}\")\n",
    "            return  # Выход из функции после первого совпадения\n",
    "\n",
    "# Перебор functions_list и поиск совпадений\n",
    "for function in functions_list:\n",
    "    find_and_set_full_folder_name(function)"
   ],
   "metadata": {
    "collapsed": false,
    "ExecuteTime": {
     "end_time": "2025-03-05T23:47:57.640874Z",
     "start_time": "2025-03-05T23:47:57.633193Z"
    }
   },
   "id": "f6fd27b602b39537",
   "execution_count": 4
  },
  {
   "cell_type": "code",
   "outputs": [
    {
     "name": "stdout",
     "output_type": "stream",
     "text": [
      "Функция accept не найдена в файле E:\\openmw\\components\\sceneutil\\positionattitudetransform.hpp.\n",
      "{'folder_name': 'sceneutil', 'full_folder_name': 'E:\\\\openmw\\\\components\\\\sceneutil\\\\positionattitudetransform.hpp', 'class_name': 'PositionAttitudeTransform', 'function_name': 'accept', 'source_file': 'positionattitudetransform.hpp', 'module': 'openmw.exe', 'return_type': '', 'arguments': '', 'code': ''}\n"
     ]
    },
    {
     "ename": "KeyboardInterrupt",
     "evalue": "",
     "output_type": "error",
     "traceback": [
      "\u001B[1;31m---------------------------------------------------------------------------\u001B[0m",
      "\u001B[1;31mKeyboardInterrupt\u001B[0m                         Traceback (most recent call last)",
      "Cell \u001B[1;32mIn[5], line 62\u001B[0m\n\u001B[0;32m     60\u001B[0m \u001B[38;5;66;03m# Пример использования\u001B[39;00m\n\u001B[0;32m     61\u001B[0m \u001B[38;5;28;01mfor\u001B[39;00m function \u001B[38;5;129;01min\u001B[39;00m functions_list:\n\u001B[1;32m---> 62\u001B[0m     \u001B[43mextract_function_details\u001B[49m\u001B[43m(\u001B[49m\u001B[43mfunction\u001B[49m\u001B[43m)\u001B[49m\n\u001B[0;32m     63\u001B[0m     \u001B[38;5;28mprint\u001B[39m(function)\n",
      "Cell \u001B[1;32mIn[5], line 38\u001B[0m, in \u001B[0;36mextract_function_details\u001B[1;34m(function)\u001B[0m\n\u001B[0;32m     36\u001B[0m brace_count \u001B[38;5;241m=\u001B[39m \u001B[38;5;241m1\u001B[39m  \u001B[38;5;66;03m# Начинаем с 1, так как первая скобка уже найдена\u001B[39;00m\n\u001B[0;32m     37\u001B[0m function_code \u001B[38;5;241m=\u001B[39m function_match\u001B[38;5;241m.\u001B[39mgroup(\u001B[38;5;241m0\u001B[39m)  \u001B[38;5;66;03m# Начинаем с сигнатуры функции\u001B[39;00m\n\u001B[1;32m---> 38\u001B[0m i \u001B[38;5;241m=\u001B[39m \u001B[43mstart_pos\u001B[49m\n\u001B[0;32m     40\u001B[0m \u001B[38;5;66;03m# Итерация по символам для поиска конца функции\u001B[39;00m\n\u001B[0;32m     41\u001B[0m \u001B[38;5;28;01mwhile\u001B[39;00m i \u001B[38;5;241m<\u001B[39m \u001B[38;5;28mlen\u001B[39m(content):\n",
      "File \u001B[1;32m_pydevd_bundle\\pydevd_cython_win32_311_64.pyx:1187\u001B[0m, in \u001B[0;36m_pydevd_bundle.pydevd_cython_win32_311_64.SafeCallWrapper.__call__\u001B[1;34m()\u001B[0m\n",
      "File \u001B[1;32m_pydevd_bundle\\pydevd_cython_win32_311_64.pyx:627\u001B[0m, in \u001B[0;36m_pydevd_bundle.pydevd_cython_win32_311_64.PyDBFrame.trace_dispatch\u001B[1;34m()\u001B[0m\n",
      "File \u001B[1;32m_pydevd_bundle\\pydevd_cython_win32_311_64.pyx:1103\u001B[0m, in \u001B[0;36m_pydevd_bundle.pydevd_cython_win32_311_64.PyDBFrame.trace_dispatch\u001B[1;34m()\u001B[0m\n",
      "File \u001B[1;32m_pydevd_bundle\\pydevd_cython_win32_311_64.pyx:1061\u001B[0m, in \u001B[0;36m_pydevd_bundle.pydevd_cython_win32_311_64.PyDBFrame.trace_dispatch\u001B[1;34m()\u001B[0m\n",
      "File \u001B[1;32mE:\\F\\DataSpell 2023.3.4\\plugins\\python-ce\\helpers-pro\\jupyter_debug\\pydev_jupyter_plugin.py:169\u001B[0m, in \u001B[0;36mstop\u001B[1;34m(plugin, pydb, frame, event, args, stop_info, arg, step_cmd)\u001B[0m\n\u001B[0;32m    167\u001B[0m     frame \u001B[38;5;241m=\u001B[39m suspend_jupyter(main_debugger, thread, frame, step_cmd)\n\u001B[0;32m    168\u001B[0m     \u001B[38;5;28;01mif\u001B[39;00m frame:\n\u001B[1;32m--> 169\u001B[0m         \u001B[43mmain_debugger\u001B[49m\u001B[38;5;241;43m.\u001B[39;49m\u001B[43mdo_wait_suspend\u001B[49m\u001B[43m(\u001B[49m\u001B[43mthread\u001B[49m\u001B[43m,\u001B[49m\u001B[43m \u001B[49m\u001B[43mframe\u001B[49m\u001B[43m,\u001B[49m\u001B[43m \u001B[49m\u001B[43mevent\u001B[49m\u001B[43m,\u001B[49m\u001B[43m \u001B[49m\u001B[43marg\u001B[49m\u001B[43m)\u001B[49m\n\u001B[0;32m    170\u001B[0m         \u001B[38;5;28;01mreturn\u001B[39;00m \u001B[38;5;28;01mTrue\u001B[39;00m\n\u001B[0;32m    171\u001B[0m \u001B[38;5;28;01mreturn\u001B[39;00m \u001B[38;5;28;01mFalse\u001B[39;00m\n",
      "File \u001B[1;32mE:\\F\\DataSpell 2023.3.4\\plugins\\python-ce\\helpers\\pydev\\pydevd.py:1184\u001B[0m, in \u001B[0;36mPyDB.do_wait_suspend\u001B[1;34m(self, thread, frame, event, arg, send_suspend_message, is_unhandled_exception)\u001B[0m\n\u001B[0;32m   1181\u001B[0m         from_this_thread\u001B[38;5;241m.\u001B[39mappend(frame_id)\n\u001B[0;32m   1183\u001B[0m \u001B[38;5;28;01mwith\u001B[39;00m \u001B[38;5;28mself\u001B[39m\u001B[38;5;241m.\u001B[39m_threads_suspended_single_notification\u001B[38;5;241m.\u001B[39mnotify_thread_suspended(thread_id, stop_reason):\n\u001B[1;32m-> 1184\u001B[0m     \u001B[38;5;28;43mself\u001B[39;49m\u001B[38;5;241;43m.\u001B[39;49m\u001B[43m_do_wait_suspend\u001B[49m\u001B[43m(\u001B[49m\u001B[43mthread\u001B[49m\u001B[43m,\u001B[49m\u001B[43m \u001B[49m\u001B[43mframe\u001B[49m\u001B[43m,\u001B[49m\u001B[43m \u001B[49m\u001B[43mevent\u001B[49m\u001B[43m,\u001B[49m\u001B[43m \u001B[49m\u001B[43marg\u001B[49m\u001B[43m,\u001B[49m\u001B[43m \u001B[49m\u001B[43msuspend_type\u001B[49m\u001B[43m,\u001B[49m\u001B[43m \u001B[49m\u001B[43mfrom_this_thread\u001B[49m\u001B[43m)\u001B[49m\n",
      "File \u001B[1;32mE:\\F\\DataSpell 2023.3.4\\plugins\\python-ce\\helpers\\pydev\\pydevd.py:1199\u001B[0m, in \u001B[0;36mPyDB._do_wait_suspend\u001B[1;34m(self, thread, frame, event, arg, suspend_type, from_this_thread)\u001B[0m\n\u001B[0;32m   1196\u001B[0m             \u001B[38;5;28mself\u001B[39m\u001B[38;5;241m.\u001B[39m_call_mpl_hook()\n\u001B[0;32m   1198\u001B[0m         \u001B[38;5;28mself\u001B[39m\u001B[38;5;241m.\u001B[39mprocess_internal_commands()\n\u001B[1;32m-> 1199\u001B[0m         \u001B[43mtime\u001B[49m\u001B[38;5;241;43m.\u001B[39;49m\u001B[43msleep\u001B[49m\u001B[43m(\u001B[49m\u001B[38;5;241;43m0.01\u001B[39;49m\u001B[43m)\u001B[49m\n\u001B[0;32m   1201\u001B[0m \u001B[38;5;28mself\u001B[39m\u001B[38;5;241m.\u001B[39mcancel_async_evaluation(get_current_thread_id(thread), \u001B[38;5;28mstr\u001B[39m(\u001B[38;5;28mid\u001B[39m(frame)))\n\u001B[0;32m   1203\u001B[0m \u001B[38;5;66;03m# process any stepping instructions\u001B[39;00m\n",
      "\u001B[1;31mKeyboardInterrupt\u001B[0m: "
     ]
    }
   ],
   "source": [
    "import os\n",
    "import re\n",
    "\n",
    "# Функция для заполнения return_type, arguments и code\n",
    "def extract_function_details(function):\n",
    "    # Формирование полного пути к файлу\n",
    "    file_path = function[\"full_folder_name\"]\n",
    "\n",
    "    # Чтение содержимого файла\n",
    "    try:\n",
    "        with open(file_path, \"r\", encoding=\"utf-8\") as file:\n",
    "            content = file.read()\n",
    "    except FileNotFoundError:\n",
    "        print(f\"Файл не найден: {file_path}\")\n",
    "        return\n",
    "\n",
    "    function_name = function[\"function_name\"]\n",
    "\n",
    "    # Регулярное выражение для поиска функции (включая возвращаемый тип и аргументы)\n",
    "    function_pattern = re.compile(rf\"(.*?)\\b{function_name}\\s*\\(([^)]*)\\)\\s*{{\")\n",
    "\n",
    "    # Поиск функции\n",
    "    function_match = function_pattern.search(content)\n",
    "    if not function_match:\n",
    "        print(f\"Функция {function_name} не найдена в файле {file_path}.\")\n",
    "        return\n",
    "\n",
    "    # Извлечение return_type и arguments из совпадения\n",
    "    return_type = function_match.group(1).strip()  # Возвращаемый тип\n",
    "    arguments = function_match.group(2).strip()   # Аргументы\n",
    "\n",
    "    # Начальная позиция функции (после сигнатуры)\n",
    "    start_pos = function_match.end()\n",
    "\n",
    "    # Счётчик скобок\n",
    "    brace_count = 1  # Начинаем с 1, так как первая скобка уже найдена\n",
    "    function_code = function_match.group(0)  # Начинаем с сигнатуры функции\n",
    "    i = start_pos\n",
    "\n",
    "    # Итерация по символам для поиска конца функции\n",
    "    while i < len(content):\n",
    "        if content[i] == \"{\":\n",
    "            brace_count += 1\n",
    "        elif content[i] == \"}\":\n",
    "            brace_count -= 1\n",
    "\n",
    "        function_code += content[i]\n",
    "\n",
    "        # Если все скобки закрыты, завершаем чтение\n",
    "        if brace_count == 0:\n",
    "            break\n",
    "\n",
    "        i += 1\n",
    "\n",
    "    # Заполнение полей return_type, arguments и code\n",
    "    function[\"return_type\"] = return_type\n",
    "    function[\"arguments\"] = arguments\n",
    "    function[\"code\"] = function_code\n",
    "\n",
    "# Пример использования\n",
    "for function in functions_list:\n",
    "    extract_function_details(function)\n",
    "    print(function)\n",
    "    \n"
   ],
   "metadata": {
    "collapsed": false,
    "ExecuteTime": {
     "end_time": "2025-03-05T23:59:04.143768Z",
     "start_time": "2025-03-05T23:56:10.944578Z"
    }
   },
   "id": "5d48771a911a7faa",
   "execution_count": 5
  },
  {
   "cell_type": "code",
   "outputs": [],
   "source": [
    "# Формирование полного пути к файлу\n",
    "file_path = function[\"full_folder_name\"]\n",
    "\n",
    "# Чтение содержимого файла\n",
    "try:\n",
    "    with open(file_path, \"r\", encoding=\"utf-8\") as file:\n",
    "        content = file.read()\n",
    "except FileNotFoundError:\n",
    "    print(f\"Файл не найден: {file_path}\")\n",
    "    exit()\n",
    "\n",
    "# Поиск класса и функции в исходном коде\n",
    "class_name = function[\"class_name\"]\n",
    "function_name = function[\"function_name\"]\n",
    "\n",
    "# Регулярное выражение для поиска начала класса (только по имени)\n",
    "class_start_pattern = re.compile(rf\"class\\s+{class_name}\\b[^{{]*\")\n",
    "\n",
    "# Поиск начала класса\n",
    "class_start_match = class_start_pattern.search(content)\n",
    "if not class_start_match:\n",
    "    print(f\"Класс {class_name} не найден в файле {file_path}.\")\n",
    "    exit()\n",
    "\n",
    "# Начальная позиция класса (после объявления)\n",
    "start_pos = class_start_match.end()\n",
    "\n",
    "# Счётчик скобок\n",
    "brace_count = 0  # Начинаем с 0, так как скобка ещё не найдена\n",
    "class_code = class_start_match.group(0)  # Начинаем с объявления класса\n",
    "i = start_pos\n",
    "\n",
    "# Итерация по символам для поиска конца класса\n",
    "while i < len(content):\n",
    "    if content[i] == \"{\":\n",
    "        brace_count += 1\n",
    "    elif content[i] == \"}\":\n",
    "        brace_count -= 1\n",
    "    class_code += content[i]\n",
    "    # Если все скобки закрыты, завершаем чтение\n",
    "    if brace_count == 0:\n",
    "        break\n",
    "    i += 1\n",
    "\n",
    "# Вывод информации о классе и его кода\n",
    "print(f\"Информация о классе:\\n{class_code}\\n\")\n",
    "\n",
    "# Регулярное выражение для поиска функции (только по имени)\n",
    "function_pattern = re.compile(rf\"\\b{function_name}\\s*[^{{]*\")\n",
    "\n",
    "# Поиск функции\n",
    "function_match = function_pattern.search(class_code)\n",
    "if not function_match:\n",
    "    print(f\"Функция {function_name} не найдена в классе {class_name}.\")\n",
    "    exit()\n",
    "\n",
    "# Начальная позиция функции (после сигнатуры)\n",
    "start_pos = function_match.end()\n",
    "\n",
    "# Счётчик скобок\n",
    "brace_count = 0  # Начинаем с 0, так как скобка ещё не найдена\n",
    "function_code = function_match.group(0)  # Начинаем с сигнатуры функции\n",
    "i = start_pos\n",
    "\n",
    "lenC = len(class_code)\n",
    "# Итерация по символам для поиска конца функции\n",
    "while i < len(class_code):\n",
    "    if class_code[i] == \"{\":\n",
    "        brace_count += 1\n",
    "    elif class_code[i] == \"}\":\n",
    "        brace_count -= 1\n",
    "\n",
    "    function_code += class_code[i]\n",
    "\n",
    "    # Если все скобки закрыты, завершаем чтение\n",
    "    if brace_count == 0:\n",
    "        break\n",
    "\n",
    "    i += 1\n",
    "\n",
    "# Вывод информации о функции и её кода\n",
    "print(f\"Код функции {function_name}:\\n{function_code}\\n\")"
   ],
   "metadata": {
    "collapsed": false
   },
   "id": "4f152b0b3944ec50"
  },
  {
   "cell_type": "code",
   "outputs": [],
   "source": [
    "import sqlite3\n",
    "\n",
    "# Подключение к базе данных (или создание новой)\n",
    "conn = sqlite3.connect(\"functions.db\")\n",
    "cursor = conn.cursor()\n",
    "\n",
    "# Создание таблицы\n",
    "cursor.execute(\"\"\"\n",
    "CREATE TABLE functions (\n",
    "    id INTEGER PRIMARY KEY AUTOINCREMENT,\n",
    "    folder_name TEXT NOT NULL,\n",
    "    full_folder_name TEXT NOT NULL,\n",
    "    class_name TEXT NOT NULL,\n",
    "    function_name TEXT NOT NULL,\n",
    "    source_file TEXT NOT NULL,\n",
    "    module TEXT NOT NULL,\n",
    "    return_type TEXT,\n",
    "    arguments TEXT,\n",
    "    code TEXT\n",
    ")\n",
    "\"\"\")\n",
    "conn.commit()"
   ],
   "metadata": {
    "collapsed": false,
    "ExecuteTime": {
     "end_time": "2025-03-05T22:22:53.471557Z",
     "start_time": "2025-03-05T22:22:53.075960Z"
    }
   },
   "id": "871a96ac597fae43",
   "execution_count": 6
  },
  {
   "cell_type": "code",
   "outputs": [],
   "source": [
    "# Вставка данных\n",
    "for function in functions_list:  \n",
    "    cursor.execute(\"\"\"\n",
    "    INSERT INTO functions (\n",
    "        folder_name, full_folder_name, class_name, function_name, source_file, module, return_type, arguments, code\n",
    "    ) VALUES (?, ?, ?, ?, ?, ?, ?, ?, ?)\n",
    "    \"\"\", (\n",
    "        function[\"folder_name\"],\n",
    "        function[\"full_folder_name\"],\n",
    "        function[\"class_name\"],\n",
    "        function[\"function_name\"],\n",
    "        function[\"source_file\"],\n",
    "        function[\"module\"],\n",
    "        function[\"return_type\"],\n",
    "        function[\"arguments\"],\n",
    "        function[\"code\"]\n",
    "    ))\n",
    "conn.commit()"
   ],
   "metadata": {
    "collapsed": false,
    "ExecuteTime": {
     "end_time": "2025-03-05T22:22:59.965381Z",
     "start_time": "2025-03-05T22:22:59.625806Z"
    }
   },
   "id": "9db04efb5ba6189c",
   "execution_count": 7
  },
  {
   "cell_type": "code",
   "outputs": [
    {
     "name": "stdout",
     "output_type": "stream",
     "text": [
      "Найдена функция: (2, 'mwrender', 'E:\\\\openmw\\\\apps\\\\openmw\\\\mwrender\\\\renderingmanager.cpp', 'IntersectionVisitorWithIgnoreList', 'skipTransform', 'renderingmanager.cpp', 'openmw.exe', '', 'osg::Transform& transform', 'skipTransform(osg::Transform& transform)\\n        {\\n            if (mContainsPagedRefs)\\n                return false;\\n\\n            osg::UserDataContainer* userDataContainer = transform.getUserDataContainer();\\n            if (!userDataContainer)\\n                return false;\\n\\n            for (unsigned int i = 0; i < userDataContainer->getNumUserObjects(); ++i)\\n            {\\n                if (PtrHolder* p = dynamic_cast<PtrHolder*>(userDataContainer->getUserObject(i)))\\n                {\\n                    if (std::find(mIgnoreList.begin(), mIgnoreList.end(), p->mPtr) != mIgnoreList.end())\\n                    {\\n                        return true;\\n                    }\\n                }\\n            }\\n\\n            return false;\\n        }\\n\\n        void apply(osg::Transform& transform) override\\n        {\\n            if (skipTransform(transform))\\n            {\\n                return;\\n            }\\n            osgUtil::IntersectionVisitor::apply(transform);\\n        }\\n\\n        void setIgnoreList(std::span<const MWWorld::Ptr> ignoreList) { mIgnoreList = ignoreList; }\\n        void setContainsPagedRefs(bool contains) { mContainsPagedRefs = contains; }\\n\\n    private:\\n        std::span<const MWWorld::Ptr> mIgnoreList;\\n        bool mContainsPagedRefs = false;\\n    }')\n"
     ]
    }
   ],
   "source": [
    "function_name = \"skipTransform\"\n",
    "cursor.execute(\"SELECT * FROM functions WHERE function_name = ?\", (function_name,))\n",
    "result = cursor.fetchone()\n",
    "\n",
    "if result:\n",
    "    print(f\"Найдена функция: {result}\")\n",
    "else:\n",
    "    print(\"Функция не найдена.\")"
   ],
   "metadata": {
    "collapsed": false,
    "ExecuteTime": {
     "end_time": "2025-03-05T22:23:09.917818Z",
     "start_time": "2025-03-05T22:23:09.911943Z"
    }
   },
   "id": "d815e5258dde395",
   "execution_count": 8
  },
  {
   "cell_type": "code",
   "outputs": [],
   "source": [],
   "metadata": {
    "collapsed": false
   },
   "id": "dc084fba634be78a"
  },
  {
   "cell_type": "code",
   "outputs": [],
   "source": [
    "# Создаем интерфейс Gradio\n",
    "interface = gr.Interface(\n",
    "    fn=ask_codestral,\n",
    "    inputs=gr.Textbox(lines=2, placeholder=\"Введите ваш запрос...\"),\n",
    "    outputs=gr.Textbox(lines=10, label=\"Ответ Codestral\"),\n",
    "    title=\"Codestral Code Assistant\",\n",
    "    description=\"Задайте вопрос или попросите написать код, и Codestral поможет вам!\"\n",
    ")"
   ],
   "metadata": {
    "collapsed": false
   },
   "id": "1556265d1b247954",
   "execution_count": null
  },
  {
   "cell_type": "code",
   "outputs": [],
   "source": [
    "# Запускаем интерфейс\n",
    "interface.launch()"
   ],
   "metadata": {
    "collapsed": false
   },
   "id": "3a3af684774079f8"
  }
 ],
 "metadata": {
  "kernelspec": {
   "display_name": "Python 3",
   "language": "python",
   "name": "python3"
  },
  "language_info": {
   "codemirror_mode": {
    "name": "ipython",
    "version": 2
   },
   "file_extension": ".py",
   "mimetype": "text/x-python",
   "name": "python",
   "nbconvert_exporter": "python",
   "pygments_lexer": "ipython2",
   "version": "2.7.6"
  }
 },
 "nbformat": 4,
 "nbformat_minor": 5
}
