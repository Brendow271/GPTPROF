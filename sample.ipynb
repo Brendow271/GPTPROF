{
 "cells": [
  {
   "cell_type": "code",
   "execution_count": 12,
   "id": "initial_id",
   "metadata": {
    "collapsed": true,
    "ExecuteTime": {
     "end_time": "2025-02-25T20:12:20.511077Z",
     "start_time": "2025-02-25T20:12:10.066379Z"
    }
   },
   "outputs": [
    {
     "name": "stderr",
     "output_type": "stream",
     "text": [
      "E:\\AAStudy\\0_work\\Work\\Chukanov\\MyWork\\Diplom\\GPTPROF\\venv\\Lib\\site-packages\\tqdm\\auto.py:21: TqdmWarning: IProgress not found. Please update jupyter and ipywidgets. See https://ipywidgets.readthedocs.io/en/stable/user_install.html\n",
      "  from .autonotebook import tqdm as notebook_tqdm\n"
     ]
    },
    {
     "name": "stdout",
     "output_type": "stream",
     "text": [
      "* Running on local URL:  http://127.0.0.1:7860\n",
      "\n",
      "To create a public link, set `share=True` in `launch()`.\n"
     ]
    },
    {
     "data": {
      "text/plain": "<IPython.core.display.HTML object>",
      "text/html": "<div><iframe src=\"http://127.0.0.1:7860/\" width=\"100%\" height=\"500\" allow=\"autoplay; camera; microphone; clipboard-read; clipboard-write;\" frameborder=\"0\" allowfullscreen></iframe></div>"
     },
     "metadata": {},
     "output_type": "display_data"
    },
    {
     "data": {
      "text/plain": ""
     },
     "execution_count": 12,
     "metadata": {},
     "output_type": "execute_result"
    }
   ],
   "source": [
    "import os\n",
    "import gradio as gr\n",
    "from langchain_mistralai import ChatMistralAI\n",
    "from langchain_core.prompts import ChatPromptTemplate\n",
    "\n",
    "# Инициализация модели Codestral\n",
    "mistral_model = \"codestral-latest\"\n",
    "llm = ChatMistralAI(model=mistral_model, temperature=0, api_key=os.environ[\"MISTRAL_API_KEY\"])\n",
    "\n",
    "# Функция для взаимодействия с Codestral\n",
    "def ask_codestral(user_input):\n",
    "    prompt = ChatPromptTemplate.from_messages([\n",
    "        (\"user\", user_input)\n",
    "    ])\n",
    "    chain = prompt | llm\n",
    "    response = chain.invoke({})\n",
    "    return response.content\n",
    "\n",
    "# Создаем интерфейс Gradio\n",
    "interface = gr.Interface(\n",
    "    fn=ask_codestral,\n",
    "    inputs=gr.Textbox(lines=2, placeholder=\"Введите ваш запрос...\"),\n",
    "    outputs=gr.Textbox(lines=10, label=\"Ответ Codestral\"),\n",
    "    title=\"Codestral Code Assistant\",\n",
    "    description=\"Задайте вопрос или попросите написать код, и Codestral поможет вам!\"\n",
    ")\n",
    "\n",
    "# Запускаем интерфейс\n",
    "interface.launch()"
   ]
  }
 ],
 "metadata": {
  "kernelspec": {
   "display_name": "Python 3",
   "language": "python",
   "name": "python3"
  },
  "language_info": {
   "codemirror_mode": {
    "name": "ipython",
    "version": 2
   },
   "file_extension": ".py",
   "mimetype": "text/x-python",
   "name": "python",
   "nbconvert_exporter": "python",
   "pygments_lexer": "ipython2",
   "version": "2.7.6"
  }
 },
 "nbformat": 4,
 "nbformat_minor": 5
}
